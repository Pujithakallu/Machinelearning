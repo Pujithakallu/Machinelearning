{
  "nbformat": 4,
  "nbformat_minor": 0,
  "metadata": {
    "colab": {
      "provenance": [],
      "toc_visible": true
    },
    "kernelspec": {
      "name": "python3",
      "display_name": "Python 3"
    },
    "language_info": {
      "name": "python"
    }
  },
  "cells": [
    {
      "cell_type": "code",
      "execution_count": null,
      "metadata": {
        "colab": {
          "base_uri": "https://localhost:8080/"
        },
        "id": "FW6S60r-qskW",
        "outputId": "597562c7-6f49-43fb-9e1f-d63524f90fea"
      },
      "outputs": [
        {
          "output_type": "stream",
          "name": "stdout",
          "text": [
            "True\n",
            "False\n"
          ]
        }
      ],
      "source": [
        "# 1). Write a python function that takes a sequence of numbers and determines if all the numbers are\n",
        "# distinct from each other or if there are any duplicates.\n",
        "\n",
        "import numpy as np\n",
        "def test_distinct(data):\n",
        "    if len(data) == len(set(data)):  # convert the data into set\n",
        "        return True\n",
        "    else:\n",
        "        return False\n",
        "\n",
        "\n",
        "print(test_distinct([1, 5, 7, 9]))\n",
        "print(test_distinct([2, 4, 5, 5, 7, 9]))"
      ]
    },
    {
      "cell_type": "code",
      "source": [],
      "metadata": {
        "id": "EmF4SzUTIiB-"
      },
      "execution_count": null,
      "outputs": []
    },
    {
      "cell_type": "code",
      "source": [
        "# 2). Write a python function to find indices of elements that are equal to zero in a numpy array.\n",
        "\n",
        "import numpy as np\n",
        "def zero_index(data):\n",
        "    print(\"\\nGiven array:\")\n",
        "    print(data)\n",
        "    print(\"Indices of elements with null value:\")\n",
        "    result = np.where(data == 0)[0]\n",
        "    print(result)\n",
        "\n",
        "\n",
        "zero_index(np.array([1, 0, 2, 0, 3, 0, 4, 5, 6, 7, 8]))"
      ],
      "metadata": {
        "colab": {
          "base_uri": "https://localhost:8080/"
        },
        "id": "ci2Vu1Q0sDHx",
        "outputId": "4ea6974c-79ce-4900-c3c1-0d3bbe87c519"
      },
      "execution_count": null,
      "outputs": [
        {
          "output_type": "stream",
          "name": "stdout",
          "text": [
            "\n",
            "Given array:\n",
            "[1 0 2 0 3 0 4 5 6 7 8]\n",
            "Indices of elements with null value:\n",
            "[1 3 5]\n"
          ]
        }
      ]
    },
    {
      "cell_type": "code",
      "source": [
        "# 3). Write a program to compute and print the Mean Squared Error (MSE)..\n",
        "import numpy as np\n",
        "def meanSquaredError():\n",
        "    x = np.array([100, 200, 300, 400, 500])\n",
        "    y = np.array([65, 155, 220, 310, 370])\n",
        "    w = np.array([0.25, 0.75])\n",
        "\n",
        "    allSumm = 0\n",
        "    m = len(x)\n",
        "    for i in range(0, m):\n",
        "        sumBefore = w[0]+(w[1]*x[i])-y[i]\n",
        "        sumSquared = sumBefore**2\n",
        "        allSumm = allSumm + sumSquared\n",
        "    minSqredError = allSumm/m\n",
        "    print(\"\\nMSE is: \", minSqredError)\n",
        "\n",
        "\n",
        "meanSquaredError()"
      ],
      "metadata": {
        "colab": {
          "base_uri": "https://localhost:8080/"
        },
        "id": "cHgVOS2YsbPt",
        "outputId": "6d6059f0-6a10-4f3b-f31c-00635464863b"
      },
      "execution_count": null,
      "outputs": [
        {
          "output_type": "stream",
          "name": "stdout",
          "text": [
            "\n",
            "MSE is:  55.5625\n"
          ]
        }
      ]
    }
  ]
}